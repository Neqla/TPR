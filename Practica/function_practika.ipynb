{
 "cells": [
  {
   "cell_type": "markdown",
   "metadata": {},
   "source": [
    "Вы работаете секретарем и вам постоянно приходят различные документы. Вы должны быть очень внимательны, чтобы не потерять ни один документ. Каталог документов хранится в следующем виде:"
   ]
  },
  {
   "cell_type": "code",
   "execution_count": 77,
   "metadata": {},
   "outputs": [],
   "source": [
    "documents = [\n",
    "    {'type': 'passport', 'number': '2207 876234', 'name': 'Василий Гупкин'},\n",
    "    {'type': 'invoice', 'number': '11-2', 'name': 'Геннадий Покемонов'},\n",
    "    {'type': 'insurance', 'number': '10006', 'name': 'Аристарх Павлов'}\n",
    "]"
   ]
  },
  {
   "cell_type": "code",
   "execution_count": 50,
   "metadata": {},
   "outputs": [
    {
     "data": {
      "text/plain": [
       "'2207 876234'"
      ]
     },
     "execution_count": 50,
     "metadata": {},
     "output_type": "execute_result"
    }
   ],
   "source": [
    "list(documents[0].values())[1] "
   ]
  },
  {
   "cell_type": "code",
   "execution_count": 2,
   "metadata": {},
   "outputs": [],
   "source": [
    "def print_documents(documents):\n",
    "    for doc in documents:\n",
    "        print(doc)"
   ]
  },
  {
   "cell_type": "markdown",
   "metadata": {},
   "source": [
    "Перечень полок, на которых находятся документы хранится в следующем виде:"
   ]
  },
  {
   "cell_type": "code",
   "execution_count": 78,
   "metadata": {},
   "outputs": [],
   "source": [
    "directories = {\n",
    "    '1': ['2207 876234', '11-2'],\n",
    "    '2': ['10006'],\n",
    "    '3': []\n",
    "}"
   ]
  },
  {
   "cell_type": "code",
   "execution_count": 63,
   "metadata": {},
   "outputs": [
    {
     "data": {
      "text/plain": [
       "[['2207 876234', '11-2'], ['10006'], []]"
      ]
     },
     "execution_count": 63,
     "metadata": {},
     "output_type": "execute_result"
    }
   ],
   "source": [
    "list(directories.values())\n"
   ]
  },
  {
   "cell_type": "code",
   "execution_count": 4,
   "metadata": {},
   "outputs": [],
   "source": [
    "def print_directories(directories):\n",
    "    for key,value in directories.items():\n",
    "        print(key,value)"
   ]
  },
  {
   "cell_type": "code",
   "execution_count": 76,
   "metadata": {},
   "outputs": [
    {
     "name": "stdout",
     "output_type": "stream",
     "text": [
      "d\n",
      "Введите номер документа: \n",
      "11-2\n",
      "Документ успешно удален\n"
     ]
    }
   ],
   "source": [
    "a = input('Введите команду ')\n",
    "\n",
    "if a == 'p':\n",
    "    print('Введите номер документа: ')\n",
    "    numb = str(input())\n",
    "    for doc in documents:\n",
    "        if list(doc.values())[1] == numb:\n",
    "            print(list(doc.values())[2])\n",
    "        else:\n",
    "            print('Такого документа не существует'/n)\n",
    "\n",
    "if a == 's':\n",
    "    print('Введите номер документа: ')\n",
    "    shlf = str(input())\n",
    "    for shelfName, shelf in directories.items():\n",
    "        if shlf in shelf:\n",
    "            print(\"Полка номер \", shelfName)\n",
    "                       \n",
    "if a == 'l':\n",
    "    for doc in documents:\n",
    "        print(' '.join(map(str, doc.values())))\n",
    "\n",
    "if a == 'as':\n",
    "    print('Введите номер полки: ')\n",
    "    n = input()\n",
    "    if n not in list(directories.keys()):\n",
    "        directories[n] = []\n",
    "        print(directories)\n",
    "    else:\n",
    "        print('Такая полка уже существует')\n",
    "\n",
    "if a == 'd':\n",
    "    print('Введите номер документа: ')\n",
    "    numb = input()    \n",
    "    initial_len = len(documents)\n",
    "    for i, d in enumerate(documents):\n",
    "        if d['number'] == numb:\n",
    "            documents.pop(i)\n",
    "    if initial_len == len(documents):\n",
    "        print('Документ не существует')\n",
    "    for key, value in directories.items():\n",
    "        if numb in value:\n",
    "            value.remove(numb)\n",
    "    print('Документ успешно удален')\n",
    "\n",
    "if a == 'm':\n",
    "    doc_number = input('Введите номер документа,который хоитите переместить: ')\n",
    "    shelf_id = input('Введит номер полки, на которую хоиите перемести документ: ')\n",
    "    doc_existence = False\n",
    "    if shelf_id not in directories:\n",
    "        print('Полки не существует')\n",
    "    for key, value in directories.items():\n",
    "        if doc_number in value:\n",
    "            doc_existence = True\n",
    "            directories[shelf_id] += [doc_number]\n",
    "            value.remove(doc_number)\n",
    "    if doc_existence:\n",
    "        print('Документ успешно перемещен')\n",
    "    else :\n",
    "        print('Документ не существует')\n",
    "\n",
    "if a == 'add':\n",
    "    doc_type = input(\"Введите тип докемента: \")\n",
    "    doc_number = input(\"Введите номер документа: \")\n",
    "    doc_owner = input(\"Введите имя владельца документа: \")\n",
    "    shelf_id = input(\"Введит номер полки {} : \".format(directories.keys()))\n",
    "    if shelf_id not in directories:\n",
    "        print('Полки не существует')\n",
    "    new_doc = dict(type=doc_type, number=doc_number, name=doc_owner)\n",
    "    documents.append(new_doc)\n",
    "    directories[shelf_id] += [doc_number]\n",
    "\n",
    "\n",
    "\n",
    "\n",
    "\n",
    "    \n"
   ]
  },
  {
   "cell_type": "markdown",
   "metadata": {},
   "source": [
    "Необходимо реализовать пользовательские команды (внимание! это не название функций, которые должны быть выразительными, а команды, которые вводит пользователь, чтобы получить необходимый результат):\n",
    "\n",
    "* p – people – команда, которая спросит номер документа и выведет имя человека, которому он принадлежит;\n",
    "* s – shelf – команда, которая спросит номер документа и выведет номер полки, на которой он находится\n",
    "Правильно обработайте ситуации, когда пользователь будет вводить несуществующий документ.\n",
    "* l – list – команда, которая выведет список всех документов в формате\n",
    "**passport \"2207 876234\" \"Василий Гупкин\"**\n",
    "* as – add shelf – команда, которая спросит номер новой полки и добавит ее в перечень. Предусмотрите случай, когда пользователь добавляет полку, которая уже существует.\n",
    "* d – delete – команда, которая спросит номер документа и удалит его из каталога и из перечня полок. Предусмотрите сценарий, когда пользователь вводит несуществующий документ;\n",
    "* m – move – команда, которая спросит номер документа и целевую полку и переместит его с текущей полки на целевую. Корректно обработайте кейсы, когда пользователь пытается переместить несуществующий документ или переместить документ на несуществующую полку;\n",
    "*  add – команда, которая добавит новый документ в каталог и в перечень полок, спросив его номер, тип, имя владельца и номер полки, на котором он будет храниться. Корректно обработайте ситуацию, когда пользователь будет пытаться добавить документ на несуществующую полку."
   ]
  }
 ],
 "metadata": {
  "kernelspec": {
   "display_name": "Python 3",
   "language": "python",
   "name": "python3"
  },
  "language_info": {
   "codemirror_mode": {
    "name": "ipython",
    "version": 3
   },
   "file_extension": ".py",
   "mimetype": "text/x-python",
   "name": "python",
   "nbconvert_exporter": "python",
   "pygments_lexer": "ipython3",
   "version": "3.8.3"
  }
 },
 "nbformat": 4,
 "nbformat_minor": 4
}

{
 "cells": [
  {
   "cell_type": "markdown",
   "metadata": {},
   "source": [
    "Переведите содержимое файла purchase_log.txt в словарь purchases вида:\n",
    "{‘1840e0b9d4’: ‘Продукты’, …}\n",
    "\n",
    "содержимое purchase_log.txt помещается в оперативную память компьютера\n",
    "\n",
    "Для каждого user_id в файле visit_log.csv (с данными файлами мы работал на лекции) определите третий столбец с категорией покупки (если покупка была, сам файл visit_log.csv изменять не надо). Запишите в файл funnel.csv визиты из файла visit_log.csv, в которых были покупки с указанием категории.\n",
    "\n",
    "содержимое visit_log.csv - нет; используйте только построчную обработку этого файла\n"
   ]
  },
  {
   "cell_type": "code",
   "execution_count": 5,
   "metadata": {},
   "outputs": [],
   "source": [
    "import json\n",
    "\n",
    "i = 0\n",
    "\n",
    "with open('purchase_log.txt', encoding='UTF-8') as f:\n",
    "    \n",
    "    next(f)\n",
    "    dct = {}\n",
    "    \n",
    "    for line in f:\n",
    "        if json.loads(line.strip())[\"user_id\"] in dct:\n",
    "            dct[json.loads(line.strip())[\"user_id\"]] += \",\"+json.loads(line.strip())[\"category\"]\n",
    "        \n",
    "        else:\n",
    "            dct[json.loads(line.strip())[\"user_id\"]] = json.loads(line.strip())[\"category\"]\n",
    "    \n",
    "    with open('purchase_log_output.txt', 'w', encoding='UTF-8') as f:\n",
    "        for key,values in dct.items():\n",
    "            strng='{\\\"',key,'\\\" : \\\"', values, '\\\"}\\n'\n",
    "            f.writelines(strng)\n",
    "            \n",
    "with open('visit_log.csv', encoding='UTF-8') as f:\n",
    "    with open('funnel.csv', 'w') as out:\n",
    "        \n",
    "        next(f)\n",
    "        ln = f.readline()\n",
    "        slt = ln.split(\",\")\n",
    "        \n",
    "        while ln:\n",
    "            if slt[0] in dct:\n",
    "                ln=ln[:-1]+\",\"+dct[slt[0]]+\"\\n\"\n",
    "                out.writelines(ln)\n",
    "            ln = f.readline()\n",
    "            slt = ln.split(\",\")\n",
    "f.close()\n",
    "out.close()"
   ]
  },
  {
   "cell_type": "code",
   "execution_count": null,
   "metadata": {},
   "outputs": [],
   "source": []
  }
 ],
 "metadata": {
  "kernelspec": {
   "display_name": "Python 3",
   "language": "python",
   "name": "python3"
  }
 },
 "nbformat": 4,
 "nbformat_minor": 4
}

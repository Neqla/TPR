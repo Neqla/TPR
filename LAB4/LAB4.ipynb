{
 "cells": [
  {
   "cell_type": "markdown",
   "metadata": {},
   "source": [
    "**Задание 1**\n",
    "\n",
    "Печатные газеты использовали свой формат дат для каждого выпуска. Для каждой газеты из списка напишите формат указанной даты для перевода в объект datetime:\n",
    "- The Moscow Times - Wednesday, October 2, 2002\n",
    "- The Guardian - Friday, 11.10.13\n",
    "- Daily News - Thursday, 18 August 1977"
   ]
  },
  {
   "cell_type": "code",
   "execution_count": 24,
   "metadata": {},
   "outputs": [
    {
     "name": "stdout",
     "output_type": "stream",
     "text": [
      "The Moscow Times -  2002-10-02 00:00:00\n",
      "The Guardian -  2013-10-11 00:00:00\n",
      "Daily News -  1977-08-18 00:00:00\n"
     ]
    }
   ],
   "source": [
    "from datetime import datetime, date, time, timedelta\n",
    "\n",
    "Moscow = datetime.strptime('Wednesday, October 2, 2002', '%A, %B %d, %Y')\n",
    "Guardian = datetime.strptime('Friday, 11.10.13', '%A, %d.%m.%y')\n",
    "News = datetime.strptime('Thursday, 18 August 1977', '%A, %d %B %Y')\n",
    "print('The Moscow Times - ', str(Moscow))\n",
    "print('The Guardian - ',str(Guardian))\n",
    "print('Daily News - ', str(News))"
   ]
  },
  {
   "cell_type": "markdown",
   "metadata": {},
   "source": [
    "**Задание 2**\n",
    "\n",
    "Дан поток дат в формате YYYY-MM-DD, в которых встречаются некорректные значения:\n",
    "stream = [‘2018-04-02’, ‘2018-02-29’, ‘2018-19-02’]\n",
    "\n",
    "Напишите функцию, которая проверяет эти даты на корректность.\n",
    "Т. е. для каждой даты возвращает True (дата корректна) или False (некорректная дата)."
   ]
  },
  {
   "cell_type": "code",
   "execution_count": 19,
   "metadata": {},
   "outputs": [
    {
     "name": "stdout",
     "output_type": "stream",
     "text": [
      "2018-04-02 00:00:00 Correct date\n",
      "2018-02-29  Invalid date!\n",
      "2018-19-02  Invalid date!\n"
     ]
    }
   ],
   "source": [
    "stream = ['2018-04-02','2018-02-29','2018-19-02']\n",
    "\n",
    "for date in stream:\n",
    "    try:\n",
    "        valid_date = datetime.strptime(date, '%Y-%m-%d')\n",
    "        print(valid_date, 'Correct date')\n",
    "    except ValueError:\n",
    "        print(date, ' Invalid date!')"
   ]
  },
  {
   "cell_type": "markdown",
   "metadata": {},
   "source": [
    "**Задание 3**\n",
    "\n",
    "Напишите функцию date_range, которая возвращает список дат за период от start_date до end_date. \n",
    "Даты должны вводиться в формате YYYY-MM-DD. В случае неверного формата\n",
    "или при start_date > end_date должен возвращаться пустой список."
   ]
  },
  {
   "cell_type": "code",
   "execution_count": 26,
   "metadata": {},
   "outputs": [
    {
     "name": "stdout",
     "output_type": "stream",
     "text": [
      "Start date: 2018-01-01\n",
      "End date: 2018-02-01\n",
      "2018-01-01 00:00:00\n",
      "2018-01-02 00:00:00\n",
      "2018-01-03 00:00:00\n",
      "2018-01-04 00:00:00\n",
      "2018-01-05 00:00:00\n",
      "2018-01-06 00:00:00\n",
      "2018-01-07 00:00:00\n",
      "2018-01-08 00:00:00\n",
      "2018-01-09 00:00:00\n",
      "2018-01-10 00:00:00\n",
      "2018-01-11 00:00:00\n",
      "2018-01-12 00:00:00\n",
      "2018-01-13 00:00:00\n",
      "2018-01-14 00:00:00\n",
      "2018-01-15 00:00:00\n",
      "2018-01-16 00:00:00\n",
      "2018-01-17 00:00:00\n",
      "2018-01-18 00:00:00\n",
      "2018-01-19 00:00:00\n",
      "2018-01-20 00:00:00\n",
      "2018-01-21 00:00:00\n",
      "2018-01-22 00:00:00\n",
      "2018-01-23 00:00:00\n",
      "2018-01-24 00:00:00\n",
      "2018-01-25 00:00:00\n",
      "2018-01-26 00:00:00\n",
      "2018-01-27 00:00:00\n",
      "2018-01-28 00:00:00\n",
      "2018-01-29 00:00:00\n",
      "2018-01-30 00:00:00\n",
      "2018-01-31 00:00:00\n",
      "2018-02-01 00:00:00\n"
     ]
    }
   ],
   "source": [
    "d1 = input('Start date: ')\n",
    "d2 = input('End date: ')\n",
    "\n",
    "try:\n",
    "    start_date = datetime.strptime(d1, '%Y-%m-%d')\n",
    "    end_date = datetime.strptime(d2, '%Y-%m-%d')\n",
    "except ValueError:\n",
    "        print()\n",
    "delta = end_date - start_date         # timedelta\n",
    "if delta.days<=0:\n",
    "    print (\"No range\")\n",
    "for i in range(delta.days + 1):\n",
    "    print(start_date + timedelta(i))"
   ]
  },
  {
   "cell_type": "markdown",
   "metadata": {},
   "source": [
    "**Задание 4**\n",
    "\n",
    "Ваш коллега прислал код функции:\n",
    "\n",
    "DEFAULT_USER_COUNT = 3\n",
    "\n",
    "def delete_and_return_last_user(region, default_list=[‘A100’, ‘A101’, ‘A102’]):\n",
    "\"\"“\n",
    "Удаляет из списка default_list последнего пользователя\n",
    "и возвращает ID нового последнего пользователя.\n",
    "”\"\"\n",
    "element_to_delete = default_list[-1]\n",
    "default_list.remove(element_to_delete)\n",
    "\n",
    "return default_list[DEFAULT_USER_COUNT-2]\n",
    "При однократном вызове этой функции все работает корректно:\n",
    "delete_and_return_last_user(1)\n",
    "‘A101’\n",
    "\n",
    "Однако, при повторном вызове получается ошибка IndexError: list index out of range.\n",
    "\n",
    "Что значит ошибка list index out of range?\n",
    "Почему при первом запуске функция работает корректно, а при втором - нет?"
   ]
  },
  {
   "cell_type": "code",
   "execution_count": 79,
   "metadata": {},
   "outputs": [
    {
     "ename": "IndexError",
     "evalue": "list index out of range",
     "output_type": "error",
     "traceback": [
      "\u001b[1;31m---------------------------------------------------------------------------\u001b[0m",
      "\u001b[1;31mIndexError\u001b[0m                                Traceback (most recent call last)",
      "\u001b[1;32m<ipython-input-79-2b381cfeebad>\u001b[0m in \u001b[0;36m<module>\u001b[1;34m\u001b[0m\n\u001b[0;32m      6\u001b[0m     \u001b[1;32mreturn\u001b[0m \u001b[0mdefault_list\u001b[0m\u001b[1;33m[\u001b[0m\u001b[0mDEFAULT_USER_COUNT\u001b[0m \u001b[1;33m-\u001b[0m \u001b[1;36m2\u001b[0m\u001b[1;33m]\u001b[0m\u001b[1;33m\u001b[0m\u001b[1;33m\u001b[0m\u001b[0m\n\u001b[0;32m      7\u001b[0m \u001b[0mdelete_and_return_last_user\u001b[0m\u001b[1;33m(\u001b[0m\u001b[1;36m2\u001b[0m\u001b[1;33m)\u001b[0m\u001b[1;33m\u001b[0m\u001b[1;33m\u001b[0m\u001b[0m\n\u001b[1;32m----> 8\u001b[1;33m \u001b[0mdelete_and_return_last_user\u001b[0m\u001b[1;33m(\u001b[0m\u001b[1;36m2\u001b[0m\u001b[1;33m)\u001b[0m\u001b[1;33m\u001b[0m\u001b[1;33m\u001b[0m\u001b[0m\n\u001b[0m",
      "\u001b[1;32m<ipython-input-79-2b381cfeebad>\u001b[0m in \u001b[0;36mdelete_and_return_last_user\u001b[1;34m(region, default_list)\u001b[0m\n\u001b[0;32m      4\u001b[0m     \u001b[1;31m#element_to_delete = default_list[-1]\u001b[0m\u001b[1;33m\u001b[0m\u001b[1;33m\u001b[0m\u001b[1;33m\u001b[0m\u001b[0m\n\u001b[0;32m      5\u001b[0m     \u001b[0mdefault_list\u001b[0m\u001b[1;33m.\u001b[0m\u001b[0mremove\u001b[0m\u001b[1;33m(\u001b[0m\u001b[0mdefault_list\u001b[0m\u001b[1;33m[\u001b[0m\u001b[1;33m-\u001b[0m\u001b[1;36m1\u001b[0m\u001b[1;33m]\u001b[0m\u001b[1;33m)\u001b[0m\u001b[1;33m\u001b[0m\u001b[1;33m\u001b[0m\u001b[0m\n\u001b[1;32m----> 6\u001b[1;33m     \u001b[1;32mreturn\u001b[0m \u001b[0mdefault_list\u001b[0m\u001b[1;33m[\u001b[0m\u001b[0mDEFAULT_USER_COUNT\u001b[0m \u001b[1;33m-\u001b[0m \u001b[1;36m2\u001b[0m\u001b[1;33m]\u001b[0m\u001b[1;33m\u001b[0m\u001b[1;33m\u001b[0m\u001b[0m\n\u001b[0m\u001b[0;32m      7\u001b[0m \u001b[0mdelete_and_return_last_user\u001b[0m\u001b[1;33m(\u001b[0m\u001b[1;36m2\u001b[0m\u001b[1;33m)\u001b[0m\u001b[1;33m\u001b[0m\u001b[1;33m\u001b[0m\u001b[0m\n\u001b[0;32m      8\u001b[0m \u001b[0mdelete_and_return_last_user\u001b[0m\u001b[1;33m(\u001b[0m\u001b[1;36m2\u001b[0m\u001b[1;33m)\u001b[0m\u001b[1;33m\u001b[0m\u001b[1;33m\u001b[0m\u001b[0m\n",
      "\u001b[1;31mIndexError\u001b[0m: list index out of range"
     ]
    }
   ],
   "source": [
    "DEFAULT_USER_COUNT = 3\n",
    "\n",
    "def delete_and_return_last_user(region, default_list=['A100', 'A101', 'A102']):\n",
    "    #element_to_delete = default_list[-1] \n",
    "    default_list.remove(default_list[-1]) \n",
    "    return default_list[DEFAULT_USER_COUNT - 2]\n",
    "delete_and_return_last_user(2)\n",
    "delete_and_return_last_user(2)"
   ]
  },
  {
   "cell_type": "markdown",
   "metadata": {},
   "source": [
    "**Ответ**\n",
    "\n",
    "Программа удаляет первого пользователя, а не последнего (поправил)\n",
    "\n",
    "Значение в листе удаляется, а строчка  return default_list[DEFAULT_USER_COUNT - 2] пытается вернуть уже несуществующую в листе ячейку, из-за этого выводится ошибка индекса\n",
    " "
   ]
  },
  {
   "cell_type": "code",
   "execution_count": null,
   "metadata": {},
   "outputs": [],
   "source": []
  }
 ],
 "metadata": {
  "kernelspec": {
   "display_name": "Python 3",
   "language": "python",
   "name": "python3"
  },
  "language_info": {
   "codemirror_mode": {
    "name": "ipython",
    "version": 3
   },
   "file_extension": ".py",
   "mimetype": "text/x-python",
   "name": "python",
   "nbconvert_exporter": "python",
   "pygments_lexer": "ipython3",
   "version": "3.8.3"
  }
 },
 "nbformat": 4,
 "nbformat_minor": 4
}

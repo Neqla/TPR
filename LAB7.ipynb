{
 "cells": [
  {
   "cell_type": "markdown",
   "metadata": {},
   "source": [
    "**Задание 1**\n",
    "\n",
    "Используйте файл с оценками фильмов ml-latest-small/ratings.csv. Посчитайте среднее время жизни пользователей, которые выставили более 100 оценок. Под временем жизни понимается разница между максимальным и минимальным значением столбца timestamp для данного значения userId."
   ]
  },
  {
   "cell_type": "code",
   "execution_count": 2,
   "metadata": {},
   "outputs": [
    {
     "name": "stdout",
     "output_type": "stream",
     "text": [
      "   userId  rating  timestamp_max  timestamp_min        avg\n",
      "0       4     204      949982274      949778714     203560\n",
      "1       8     116     1154474527     1154389340      85187\n",
      "2      15    1700     1469330735      997937239  471393496\n",
      "3      17     363     1127476640     1127468587       8053\n",
      "4      19     423      855195373      855190091       5282\n"
     ]
    }
   ],
   "source": [
    "import pandas as pd\n",
    "\n",
    "ratings = pd.read_csv('ml-latest-small/ratings.csv')\n",
    "ratings_count = ratings.groupby('userId').count().reset_index()\n",
    "ratings_count = ratings_count[['userId', 'rating']]\n",
    "count_more_than_100 = ratings_count[ratings_count['rating'] > 100]\n",
    "\n",
    "ratings_timestamp = ratings[['userId', 'timestamp']]\n",
    "rating_max = ratings_timestamp.groupby('userId').max().reset_index()\n",
    "rating_min = ratings_timestamp.groupby('userId').min().reset_index()\n",
    "rating_max.rename(columns={'timestamp': 'timestamp_max'}, inplace=True)\n",
    "rating_min.rename(columns={'timestamp': 'timestamp_min'}, inplace=True)\n",
    "\n",
    "avg_timestamp = count_more_than_100.merge(rating_max, how='inner').merge(rating_min, how='inner')\n",
    "\n",
    "def average(row):\n",
    "    avg = (row['timestamp_max'] - row['timestamp_min'])\n",
    "    return avg\n",
    "\n",
    "\n",
    "avg_timestamp['avg'] = avg_timestamp.apply(average, axis=1)\n",
    "print(avg_timestamp.head())"
   ]
  },
  {
   "cell_type": "markdown",
   "metadata": {},
   "source": [
    "**Задание 2**\n",
    "\n",
    "Задание 2\n",
    "В файле URLs.txt содержатся url страниц новостного сайта. Вам необходимо отфильтровать его по адресам страниц с текстами новостей. Известно, что шаблон страницы новостей имеет внутри url следующую конструкцию: /, затем 8 цифр, затем дефис. Выполните следующие действия:\n",
    "1. Прочитайте содержимое файла с датафрейм\n",
    "2. Отфильтруйте страницы с текстом новостей, используя метод str.contains и регулярное выражение в соответствии с заданным шаблоном"
   ]
  },
  {
   "cell_type": "code",
   "execution_count": 3,
   "metadata": {},
   "outputs": [
    {
     "name": "stdout",
     "output_type": "stream",
     "text": [
      "0                                              /world/\n",
      "1                                             /latest/\n",
      "2                                        /?updated=top\n",
      "3    /politics/36188461-s-marta-zhizn-rossiyan-susc...\n",
      "4    /world/36007585-tramp-pridumal-kak-reshit-ukra...\n",
      "5    /science/36157853-nasa-sobiraet-ekstrennuyu-pr...\n",
      "6    /video/36001498-poyavilis-pervye-podrobnosti-g...\n",
      "7    /world/36007585-tramp-pridumal-kak-reshit-ukra...\n",
      "Name: url, dtype: object\n"
     ]
    }
   ],
   "source": [
    "urls = pd.read_csv('URLs.txt')\n",
    "print(urls.url[:8])"
   ]
  },
  {
   "cell_type": "code",
   "execution_count": 4,
   "metadata": {},
   "outputs": [
    {
     "name": "stdout",
     "output_type": "stream",
     "text": [
      "                                                 URL\n",
      "0  /politics/36188461-s-marta-zhizn-rossiyan-susc...\n",
      "1  /world/36007585-tramp-pridumal-kak-reshit-ukra...\n",
      "2  /science/36157853-nasa-sobiraet-ekstrennuyu-pr...\n",
      "3  /video/36001498-poyavilis-pervye-podrobnosti-g...\n",
      "4  /world/36007585-tramp-pridumal-kak-reshit-ukra...\n"
     ]
    }
   ],
   "source": [
    "url_split = pd.DataFrame([i for i in urls.url if pd.Series(i).str.contains('\\/\\d{8}-', regex=True)[0]],columns=['URL'])\n",
    "print(url_split.head(5))"
   ]
  },
  {
   "cell_type": "markdown",
   "metadata": {},
   "source": [
    "**Задание 3**\n",
    "\n",
    "В датафрейме data создайте столбец lemmas, в котором вычислите леммы поисковых запросов из столбца keyword. Леммы должны иметь строковый тип."
   ]
  },
  {
   "cell_type": "code",
   "execution_count": 12,
   "metadata": {},
   "outputs": [
    {
     "data": {
      "text/html": [
       "<div>\n",
       "<style scoped>\n",
       "    .dataframe tbody tr th:only-of-type {\n",
       "        vertical-align: middle;\n",
       "    }\n",
       "\n",
       "    .dataframe tbody tr th {\n",
       "        vertical-align: top;\n",
       "    }\n",
       "\n",
       "    .dataframe thead th {\n",
       "        text-align: right;\n",
       "    }\n",
       "</style>\n",
       "<table border=\"1\" class=\"dataframe\">\n",
       "  <thead>\n",
       "    <tr style=\"text-align: right;\">\n",
       "      <th></th>\n",
       "      <th>keyword</th>\n",
       "      <th>shows</th>\n",
       "      <th>lemmas</th>\n",
       "    </tr>\n",
       "  </thead>\n",
       "  <tbody>\n",
       "    <tr>\n",
       "      <th>0</th>\n",
       "      <td>курс гривны к рублю</td>\n",
       "      <td>125076</td>\n",
       "      <td>курс   гривна   к   рубль</td>\n",
       "    </tr>\n",
       "    <tr>\n",
       "      <th>1</th>\n",
       "      <td>доллары в рубли</td>\n",
       "      <td>114173</td>\n",
       "      <td>доллар   в   рубль</td>\n",
       "    </tr>\n",
       "    <tr>\n",
       "      <th>2</th>\n",
       "      <td>100 долларов в рублях</td>\n",
       "      <td>97534</td>\n",
       "      <td>100   доллар   в   рубль</td>\n",
       "    </tr>\n",
       "    <tr>\n",
       "      <th>3</th>\n",
       "      <td>курс рубля</td>\n",
       "      <td>53546</td>\n",
       "      <td>курс   рубль</td>\n",
       "    </tr>\n",
       "  </tbody>\n",
       "</table>\n",
       "</div>"
      ],
      "text/plain": [
       "                 keyword   shows                     lemmas\n",
       "0    курс гривны к рублю  125076  курс   гривна   к   рубль\n",
       "1        доллары в рубли  114173         доллар   в   рубль\n",
       "2  100 долларов в рублях   97534   100   доллар   в   рубль\n",
       "3             курс рубля   53546               курс   рубль"
      ]
     },
     "execution_count": 12,
     "metadata": {},
     "output_type": "execute_result"
    }
   ],
   "source": [
    "from pymystem3 import Mystem\n",
    "m = Mystem()\n",
    "\n",
    "data = pd.DataFrame({\n",
    "    'keyword': ['курс гривны к рублю', 'доллары в рубли', '100 долларов в рублях', 'курс рубля'],\n",
    "    'shows': [125076, 114173, 97534, 53546],\n",
    "})\n",
    "\n",
    "def get_words(row):\n",
    "    lemmas = ' '.join(m.lemmatize(row['keyword']))\n",
    "    return lemmas.rstrip()\n",
    "\n",
    "data['lemmas'] = data.apply(get_words, axis=1)\n",
    "data.head()"
   ]
  },
  {
   "cell_type": "code",
   "execution_count": 10,
   "metadata": {},
   "outputs": [
    {
     "name": "stdout",
     "output_type": "stream",
     "text": [
      "Collecting pymystem3\n",
      "  Downloading pymystem3-0.2.0-py3-none-any.whl (10 kB)\n",
      "Requirement already satisfied: requests in d:\\forqqt\\tpr\\lib\\site-packages (from pymystem3) (2.24.0)\n",
      "Requirement already satisfied: chardet<4,>=3.0.2 in d:\\forqqt\\tpr\\lib\\site-packages (from requests->pymystem3) (3.0.4)\n",
      "Requirement already satisfied: certifi>=2017.4.17 in d:\\forqqt\\tpr\\lib\\site-packages (from requests->pymystem3) (2020.6.20)\n",
      "Requirement already satisfied: urllib3!=1.25.0,!=1.25.1,<1.26,>=1.21.1 in d:\\forqqt\\tpr\\lib\\site-packages (from requests->pymystem3) (1.25.9)\n",
      "Requirement already satisfied: idna<3,>=2.5 in d:\\forqqt\\tpr\\lib\\site-packages (from requests->pymystem3) (2.10)\n",
      "Installing collected packages: pymystem3\n",
      "Successfully installed pymystem3-0.2.0\n"
     ]
    }
   ],
   "source": [
    "import sys\n",
    "!{sys.executable} -m pip install pymystem3"
   ]
  },
  {
   "cell_type": "code",
   "execution_count": null,
   "metadata": {},
   "outputs": [],
   "source": []
  },
  {
   "cell_type": "code",
   "execution_count": null,
   "metadata": {},
   "outputs": [],
   "source": []
  },
  {
   "cell_type": "code",
   "execution_count": null,
   "metadata": {},
   "outputs": [],
   "source": []
  },
  {
   "cell_type": "code",
   "execution_count": null,
   "metadata": {},
   "outputs": [],
   "source": []
  },
  {
   "cell_type": "code",
   "execution_count": null,
   "metadata": {},
   "outputs": [],
   "source": []
  },
  {
   "cell_type": "code",
   "execution_count": null,
   "metadata": {},
   "outputs": [],
   "source": []
  }
 ],
 "metadata": {
  "kernelspec": {
   "display_name": "Python 3",
   "language": "python",
   "name": "python3"
  },
  "language_info": {
   "codemirror_mode": {
    "name": "ipython",
    "version": 3
   },
   "file_extension": ".py",
   "mimetype": "text/x-python",
   "name": "python",
   "nbconvert_exporter": "python",
   "pygments_lexer": "ipython3",
   "version": "3.8.3"
  }
 },
 "nbformat": 4,
 "nbformat_minor": 4
}
